{
 "cells": [
  {
   "cell_type": "code",
   "execution_count": 1,
   "id": "bf63cb08-953c-42c2-aecd-e503e9061496",
   "metadata": {},
   "outputs": [],
   "source": [
    "import pandas as pd"
   ]
  },
  {
   "cell_type": "code",
   "execution_count": 14,
   "id": "9aafbfca-feb3-40e5-be5d-46cae815d40c",
   "metadata": {},
   "outputs": [],
   "source": [
    "df = pd.read_parquet('combined_data/cleaned_data.parquet', engine='pyarrow')\n",
    "df = df[df['Inbetriebnahmedatum'] > '1991-01-01']"
   ]
  },
  {
   "cell_type": "code",
   "execution_count": 15,
   "id": "600e1f7b-c06f-4ae7-a682-129ea02352cf",
   "metadata": {},
   "outputs": [
    {
     "data": {
      "text/plain": [
       "(4559756, 32)"
      ]
     },
     "execution_count": 15,
     "metadata": {},
     "output_type": "execute_result"
    }
   ],
   "source": [
    "df.shape"
   ]
  },
  {
   "cell_type": "code",
   "execution_count": 8,
   "id": "a79227df-2c98-47f1-90cb-4efc82e853c7",
   "metadata": {},
   "outputs": [],
   "source": [
    "# Convert the 'Bruttoleistung' column to float\n",
    "df['Bruttoleistung'] = df['Bruttoleistung'].astype(float)"
   ]
  },
  {
   "cell_type": "code",
   "execution_count": 9,
   "id": "7afbd465-3170-4f35-abf7-2d9116046388",
   "metadata": {},
   "outputs": [],
   "source": [
    "# Updating bins and labels to include \"over 1000\"\n",
    "bins = [0, 10, 40, 100, 1000, float('inf')]\n",
    "labels = ['under 10', '10 - 40', '40 - 100', '100 - 1000', 'over 1000']\n",
    "\n",
    "# Re-categorize 'Bruttoleistung' column after conversion with the updated bins\n",
    "df['Bruttoleistung_Group'] = pd.cut(df['Bruttoleistung'], bins=bins, labels=labels, right=False)\n",
    "\n",
    "# Recalculate the number of installations in each category\n",
    "installations_count = df['Bruttoleistung_Group'].value_counts().sort_index()\n",
    "\n",
    "# Display the updated results as a DataFrame\n",
    "installations_summary = pd.DataFrame(installations_count).reset_index()\n",
    "installations_summary.columns = ['Bruttoleistung Group', 'Number of Installations']"
   ]
  },
  {
   "cell_type": "code",
   "execution_count": 10,
   "id": "46439bfd-ff23-4270-8b82-746adfd202a1",
   "metadata": {},
   "outputs": [
    {
     "data": {
      "text/html": [
       "<div>\n",
       "<style scoped>\n",
       "    .dataframe tbody tr th:only-of-type {\n",
       "        vertical-align: middle;\n",
       "    }\n",
       "\n",
       "    .dataframe tbody tr th {\n",
       "        vertical-align: top;\n",
       "    }\n",
       "\n",
       "    .dataframe thead th {\n",
       "        text-align: right;\n",
       "    }\n",
       "</style>\n",
       "<table border=\"1\" class=\"dataframe\">\n",
       "  <thead>\n",
       "    <tr style=\"text-align: right;\">\n",
       "      <th></th>\n",
       "      <th>Bruttoleistung Group</th>\n",
       "      <th>Number of Installations</th>\n",
       "    </tr>\n",
       "  </thead>\n",
       "  <tbody>\n",
       "    <tr>\n",
       "      <th>0</th>\n",
       "      <td>under 10</td>\n",
       "      <td>3067905</td>\n",
       "    </tr>\n",
       "    <tr>\n",
       "      <th>1</th>\n",
       "      <td>10 - 40</td>\n",
       "      <td>1297170</td>\n",
       "    </tr>\n",
       "    <tr>\n",
       "      <th>2</th>\n",
       "      <td>40 - 100</td>\n",
       "      <td>124907</td>\n",
       "    </tr>\n",
       "    <tr>\n",
       "      <th>3</th>\n",
       "      <td>100 - 1000</td>\n",
       "      <td>63247</td>\n",
       "    </tr>\n",
       "    <tr>\n",
       "      <th>4</th>\n",
       "      <td>over 1000</td>\n",
       "      <td>6527</td>\n",
       "    </tr>\n",
       "  </tbody>\n",
       "</table>\n",
       "</div>"
      ],
      "text/plain": [
       "  Bruttoleistung Group  Number of Installations\n",
       "0             under 10                  3067905\n",
       "1              10 - 40                  1297170\n",
       "2             40 - 100                   124907\n",
       "3           100 - 1000                    63247\n",
       "4            over 1000                     6527"
      ]
     },
     "execution_count": 10,
     "metadata": {},
     "output_type": "execute_result"
    }
   ],
   "source": [
    "installations_summary"
   ]
  },
  {
   "cell_type": "code",
   "execution_count": 11,
   "id": "8c5c2d1d-ab32-457a-88a9-27d32bdb8b34",
   "metadata": {},
   "outputs": [
    {
     "data": {
      "text/plain": [
       "4559756"
      ]
     },
     "execution_count": 11,
     "metadata": {},
     "output_type": "execute_result"
    }
   ],
   "source": [
    "installations_summary['Number of Installations'].sum()"
   ]
  },
  {
   "cell_type": "code",
   "execution_count": 13,
   "id": "ecd3f8ea-fe33-44ed-ab03-47e5ef775eea",
   "metadata": {},
   "outputs": [
    {
     "data": {
      "text/plain": [
       "(4559756, 33)"
      ]
     },
     "execution_count": 13,
     "metadata": {},
     "output_type": "execute_result"
    }
   ],
   "source": [
    "df.shape"
   ]
  }
 ],
 "metadata": {
  "kernelspec": {
   "display_name": "green_new_deal",
   "language": "python",
   "name": "green_new_deal"
  },
  "language_info": {
   "codemirror_mode": {
    "name": "ipython",
    "version": 3
   },
   "file_extension": ".py",
   "mimetype": "text/x-python",
   "name": "python",
   "nbconvert_exporter": "python",
   "pygments_lexer": "ipython3",
   "version": "3.10.15"
  }
 },
 "nbformat": 4,
 "nbformat_minor": 5
}
